{
 "cells": [
  {
   "cell_type": "markdown",
   "metadata": {},
   "source": [
    "# Análisis de Red de Transacciones\n",
    "\n",
    "Este notebook utiliza la clase `TransactionNetworkAnalyzer` para analizar redes de transacciones de manera interactiva. El análisis incluye:\n",
    "\n",
    "1. Carga y validación de datos\n",
    "2. Estadísticas generales de la red\n",
    "3. Identificación de componentes de alto riesgo\n",
    "4. Exploración detallada de componentes\n",
    "5. Análisis de nodos individuales\n",
    "6. Exportación de resultados"
   ]
  },
  {
   "cell_type": "code",
   "execution_count": 1,
   "metadata": {},
   "outputs": [],
   "source": [
    "# Importar las bibliotecas necesarias\n",
    "import pandas as pd\n",
    "import networkx as nx\n",
    "import matplotlib.pyplot as plt\n",
    "import seaborn as sns\n",
    "from transaction_network_analyzer import TransactionNetworkAnalyzer\n",
    "\n",
    "# Configurar el estilo de las visualizaciones\n",
    "sns.set_theme()  # Esto aplica el estilo de seaborn\n",
    "sns.set_palette('husl')"
   ]
  },
  {
   "cell_type": "markdown",
   "metadata": {},
   "source": [
    "## 1. Carga y Validación de Datos\n",
    "\n",
    "En esta sección, cargaremos los datos de transacciones y realizaremos una validación inicial."
   ]
  },
  {
   "cell_type": "code",
   "execution_count": 2,
   "metadata": {},
   "outputs": [
    {
     "name": "stdout",
     "output_type": "stream",
     "text": [
      "Conteo de valores nulos:\n",
      "origen             0\n",
      "destino            0\n",
      "monto_total        0\n",
      "cantidad_envios    0\n",
      "dtype: int64\n",
      "\n",
      "Tipos de datos:\n",
      "origen             int64\n",
      "destino            int64\n",
      "monto_total        int64\n",
      "cantidad_envios    int64\n",
      "dtype: object\n",
      "\n",
      "Cantidad de valores negativos en 'monto_total': 0\n",
      "\n",
      "Resumen de los datos:\n",
      "          origen    destino  monto_total  cantidad_envios\n",
      "count  21.000000  21.000000    21.000000        21.000000\n",
      "mean    7.571429   8.285714    39.142857         1.809524\n",
      "std     4.935296   4.828487    60.574158         1.167007\n",
      "min     1.000000   1.000000     2.000000         1.000000\n",
      "25%     4.000000   5.000000    10.000000         1.000000\n",
      "50%     6.000000   8.000000    10.000000         1.000000\n",
      "75%    13.000000  12.000000    40.000000         2.000000\n",
      "max    14.000000  15.000000   200.000000         5.000000\n"
     ]
    }
   ],
   "source": [
    "# Cargar los datos\n",
    "df = pd.read_csv('test_dataset.csv')  # Usamos el dataset de prueba\n",
    "\n",
    "# Verificar las columnas requeridas\n",
    "required_columns = ['origen', 'destino', 'monto_total', 'cantidad_envios']\n",
    "missing_columns = [col for col in required_columns if col not in df.columns]\n",
    "\n",
    "if missing_columns:\n",
    "    raise ValueError(f\"Faltan columnas requeridas: {missing_columns}\")\n",
    "\n",
    "# Verificar valores nulos\n",
    "null_counts = df[required_columns].isnull().sum()\n",
    "print(\"Conteo de valores nulos:\")\n",
    "print(null_counts)\n",
    "\n",
    "# Verificar tipos de datos\n",
    "print(\"\\nTipos de datos:\")\n",
    "print(df[required_columns].dtypes)\n",
    "\n",
    "# Verificar valores negativos en amount\n",
    "negative_amounts = (df['monto_total'] < 0).sum()\n",
    "print(f\"\\nCantidad de valores negativos en 'monto_total': {negative_amounts}\")\n",
    "\n",
    "# Resumen de los datos\n",
    "print(\"\\nResumen de los datos:\")\n",
    "print(df.describe())"
   ]
  },
  {
   "cell_type": "markdown",
   "metadata": {},
   "source": [
    "## 2. Inicialización y Estadísticas Generales\n",
    "\n",
    "Crearemos una instancia del analizador y calcularemos las estadísticas básicas de la red."
   ]
  },
  {
   "cell_type": "code",
   "execution_count": 3,
   "metadata": {},
   "outputs": [
    {
     "name": "stdout",
     "output_type": "stream",
     "text": [
      "Estadísticas de la red:\n",
      "total_nodos: 15\n",
      "total_aristas: 19\n",
      "densidad: 0.09047619047619047\n",
      "num_componentes: 2\n",
      "tamaño_promedio_componentes: 7.5\n",
      "monto_total: 802\n",
      "total_transacciones: 36\n",
      "monto_promedio_por_transaccion: 22.27777777777778\n",
      "grado_promedio_entrada: 1.2666666666666666\n",
      "grado_promedio_salida: 1.2666666666666666\n",
      "centralidad_promedio: 0.18095238095238095\n"
     ]
    },
    {
     "data": {
      "image/png": "[encoded data removed]",
      "text/plain": [
       "<Figure size 1000x600 with 1 Axes>"
      ]
     },
     "metadata": {},
     "output_type": "display_data"
    }
   ],
   "source": [
    "# Inicializar el analizador\n",
    "analyzer = TransactionNetworkAnalyzer()\n",
    "analyzer.load_data(df)  # Cargar los datos después de inicializar\n",
    "\n",
    "# Calcular estadísticas básicas\n",
    "stats = analyzer.get_network_statistics()\n",
    "\n",
    "# Mostrar estadísticas\n",
    "print(\"Estadísticas de la red:\")\n",
    "for key, value in stats.items():\n",
    "    print(f\"{key}: {value}\")\n",
    "\n",
    "# Visualizar distribución de tamaños de componentes\n",
    "component_sizes = [len(c) for c in analyzer.components]\n",
    "plt.figure(figsize=(10, 6))\n",
    "plt.hist(component_sizes, bins=30)\n",
    "plt.title('Distribución de Tamaños de Componentes')\n",
    "plt.xlabel('Tamaño del Componente')\n",
    "plt.ylabel('Frecuencia')\n",
    "plt.show()"
   ]
  },
  {
   "cell_type": "code",
   "execution_count": 4,
   "metadata": {},
   "outputs": [],
   "source": [
    "# Definir umbral de riesgo\n",
    "risk_threshold = 0.65\n",
    "\n",
    "# Identificar componentes de alto riesgo\n",
    "high_risk_components = analyzer.get_high_risk_components(risk_threshold)"
   ]
  },
  {
   "cell_type": "markdown",
   "metadata": {},
   "source": [
    "## 3. Análisis de Componentes de Alto Riesgo\n",
    "\n",
    "Identificaremos y analizaremos los componentes que presentan un riesgo significativo."
   ]
  },
  {
   "cell_type": "code",
   "execution_count": 5,
   "metadata": {},
   "outputs": [
    {
     "ename": "AttributeError",
     "evalue": "'list' object has no attribute 'items'",
     "output_type": "error",
     "traceback": [
      "\u001b[31m---------------------------------------------------------------------------\u001b[39m",
      "\u001b[31mAttributeError\u001b[39m                            Traceback (most recent call last)",
      "\u001b[36mCell\u001b[39m\u001b[36m \u001b[39m\u001b[32mIn[5]\u001b[39m\u001b[32m, line 9\u001b[39m\n\u001b[32m      7\u001b[39m \u001b[38;5;66;03m# Crear DataFrame con métricas de riesgo\u001b[39;00m\n\u001b[32m      8\u001b[39m risk_metrics = []\n\u001b[32m----> \u001b[39m\u001b[32m9\u001b[39m \u001b[38;5;28;01mfor\u001b[39;00m component_id, risk_score \u001b[38;5;129;01min\u001b[39;00m \u001b[43mhigh_risk_components\u001b[49m\u001b[43m.\u001b[49m\u001b[43mitems\u001b[49m():\n\u001b[32m     10\u001b[39m     component = analyzer.get_component(component_id)\n\u001b[32m     11\u001b[39m     metrics = analyzer.calculate_component_metrics(component_id)\n",
      "\u001b[31mAttributeError\u001b[39m: 'list' object has no attribute 'items'"
     ]
    }
   ],
   "source": [
    "# Definir umbral de riesgo\n",
    "risk_threshold = 0.65\n",
    "\n",
    "# Identificar componentes de alto riesgo\n",
    "high_risk_components = analyzer.get_high_risk_components(risk_threshold)\n",
    "\n",
    "# Crear DataFrame con métricas de riesgo\n",
    "risk_metrics = []\n",
    "for component_id, risk_score in high_risk_components.items():\n",
    "    component = analyzer.get_component(component_id)\n",
    "    metrics = analyzer.calculate_component_metrics(component_id)\n",
    "    risk_metrics.append({\n",
    "        'component_id': component_id,\n",
    "        'risk_score': risk_score,\n",
    "        'size': len(component),\n",
    "        'total_amount': metrics['total_amount'],\n",
    "        'avg_amount': metrics['avg_amount'],\n",
    "        'density': metrics['density']\n",
    "    })\n",
    "\n",
    "risk_df = pd.DataFrame(risk_metrics)\n",
    "\n",
    "# Mostrar componentes de alto riesgo\n",
    "print(\"Componentes de Alto Riesgo:\")\n",
    "print(risk_df)\n",
    "\n",
    "# Visualizar distribución de puntuaciones de riesgo\n",
    "plt.figure(figsize=(10, 6))\n",
    "sns.histplot(data=risk_df, x='risk_score', bins=20)\n",
    "plt.title('Distribución de Puntuaciones de Riesgo')\n",
    "plt.xlabel('Puntuación de Riesgo')\n",
    "plt.ylabel('Frecuencia')\n",
    "plt.show()"
   ]
  },
  {
   "cell_type": "markdown",
   "metadata": {},
   "source": [
    "## 4. Exploración Detallada de Componentes\n",
    "\n",
    "Exploraremos en detalle los componentes seleccionados, incluyendo su estructura y métricas."
   ]
  },
  {
   "cell_type": "code",
   "execution_count": null,
   "metadata": {},
   "outputs": [],
   "source": [
    "# Seleccionar un componente para análisis detallado\n",
    "if not risk_df.empty:\n",
    "    component_id = risk_df['component_id'].iloc[0]  # Primer componente de alto riesgo\n",
    "else:\n",
    "    # Si no hay componentes de alto riesgo, tomar el primer componente disponible\n",
    "    component_id = list(analyzer.get_components())[0]\n",
    "\n",
    "# Obtener el componente\n",
    "component = analyzer.get_component(component_id)\n",
    "\n",
    "# Calcular métricas del componente\n",
    "metrics = analyzer.calculate_component_metrics(component_id)\n",
    "\n",
    "# Mostrar métricas\n",
    "print(f\"Métricas del Componente {component_id}:\")\n",
    "for key, value in metrics.items():\n",
    "    print(f\"{key}: {value}\")\n",
    "\n",
    "# Visualizar el componente\n",
    "plt.figure(figsize=(12, 8))\n",
    "analyzer.visualize_component(component_id)\n",
    "plt.title(f'Visualización del Componente {component_id}')\n",
    "plt.show()"
   ]
  },
  {
   "cell_type": "markdown",
   "metadata": {},
   "source": [
    "## 5. Análisis de Nodos Individuales\n",
    "\n",
    "Exploraremos las métricas y conexiones de nodos específicos dentro del componente."
   ]
  },
  {
   "cell_type": "code",
   "execution_count": null,
   "metadata": {},
   "outputs": [],
   "source": [
    "# Seleccionar un nodo para análisis\n",
    "node_id = list(component.nodes())[0]  # Primer nodo del componente\n",
    "\n",
    "# Calcular métricas del nodo\n",
    "metrics = analyzer.calculate_node_metrics(node_id)\n",
    "\n",
    "# Mostrar métricas\n",
    "print(f\"Métricas del Nodo {node_id}:\")\n",
    "for key, value in metrics.items():\n",
    "    print(f\"{key}: {value}\")\n",
    "\n",
    "# Obtener conexiones del nodo\n",
    "incoming = analyzer.get_node_incoming_connections(node_id)\n",
    "outgoing = analyzer.get_node_outgoing_connections(node_id)\n",
    "\n",
    "print(f\"\\nConexiones entrantes del nodo {node_id}:\")\n",
    "print(pd.DataFrame(incoming))\n",
    "print(f\"\\nConexiones salientes del nodo {node_id}:\")\n",
    "print(pd.DataFrame(outgoing))"
   ]
  },
  {
   "cell_type": "markdown",
   "metadata": {},
   "source": [
    "## 6. Exportación de Resultados\n",
    "\n",
    "Generaremos un archivo CSV con las métricas de cada nodo y estadísticas de componentes."
   ]
  },
  {
   "cell_type": "code",
   "execution_count": null,
   "metadata": {},
   "outputs": [],
   "source": [
    "# Crear DataFrame con métricas de nodos\n",
    "node_metrics = []\n",
    "for node in analyzer.G.nodes():\n",
    "    metrics = analyzer.calculate_node_metrics(node)\n",
    "    component_id = analyzer.get_node_component(node)\n",
    "    metrics['component_id'] = component_id\n",
    "    metrics['node_id'] = node\n",
    "    node_metrics.append(metrics)\n",
    "\n",
    "node_df = pd.DataFrame(node_metrics)\n",
    "\n",
    "# Agregar estadísticas de componentes\n",
    "component_stats = []\n",
    "for component_id in analyzer.get_components():\n",
    "    stats = analyzer.calculate_component_metrics(component_id)\n",
    "    stats['component_id'] = component_id\n",
    "    component_stats.append(stats)\n",
    "\n",
    "component_df = pd.DataFrame(component_stats)\n",
    "\n",
    "# Guardar resultados\n",
    "node_df.to_csv('node_metrics.csv', index=False)\n",
    "component_df.to_csv('component_metrics.csv', index=False)\n",
    "\n",
    "print(\"Resultados exportados a 'node_metrics.csv' y 'component_metrics.csv'\")"
   ]
  }
 ],
 "metadata": {
  "kernelspec": {
   "display_name": "env_network",
   "language": "python",
   "name": "python3"
  },
  "language_info": {
   "codemirror_mode": {
    "name": "ipython",
    "version": 3
   },
   "file_extension": ".py",
   "mimetype": "text/x-python",
   "name": "python",
   "nbconvert_exporter": "python",
   "pygments_lexer": "ipython3",
   "version": "3.11.9"
  }
 },
 "nbformat": 4,
 "nbformat_minor": 4
}
